{
  "cells": [
    {
      "cell_type": "code",
      "execution_count": null,
      "metadata": {
        "id": "B5ECPB_cHvcn"
      },
      "outputs": [],
      "source": [
        "import pandas as pd\n",
        "from sklearn.model_selection import train_test_split\n",
        "from sklearn.preprocessing import LabelEncoder\n",
        "from sklearn.ensemble import RandomForestClassifier\n",
        "from sklearn.metrics import accuracy_score, classification_report\n",
        "import joblib"
      ]
    },
    {
      "cell_type": "code",
      "execution_count": null,
      "metadata": {
        "id": "CptSk9rqHy6D"
      },
      "outputs": [],
      "source": [
        "def load_and_preprocess_data(path):\n",
        "    \"\"\"\n",
        "    Loads data from a CSV file, converts column names to lowercase,\n",
        "    and selects the relevant columns for the model.\n",
        "    \"\"\"\n",
        "    df = pd.read_csv(\"/content/song.csv\")\n",
        "    df.columns = df.columns.str.lower()\n",
        "\n",
        "    df_processed = df[['artist', 'song', 'emotion', 'genre', 'release date', 'explicit']].copy()\n",
        "    return df_processed\n"
      ]
    },
    {
      "cell_type": "code",
      "execution_count": 21,
      "metadata": {
        "id": "bxI4M_dgH8Sx"
      },
      "outputs": [],
      "source": [
        "def prepare_data_for_training(df):\n",
        "    \"\"\"\n",
        "    Encodes categorical variables and splits dataset into train & test sets.\n",
        "    \"\"\"\n",
        "    X = df[['emotion']]\n",
        "    y = df['genre']\n",
        "\n",
        "    le_emotion = LabelEncoder()\n",
        "    le_genre = LabelEncoder()\n",
        "\n",
        "    X_enc = le_emotion.fit_transform(X['emotion']).reshape(-1, 1)\n",
        "    y_enc = le_genre.fit_transform(y)\n",
        "\n",
        "    X_train, X_test, y_train, y_test = train_test_split(\n",
        "        X_enc, y_enc, test_size=0.2, random_state=42, stratify=y_enc\n",
        "    )\n",
        "    return X_train, X_test, y_train, y_test, le_emotion, le_genre"
      ]
    },
    {
      "cell_type": "code",
      "execution_count": null,
      "metadata": {
        "id": "8GIvGYV7H_RR"
      },
      "outputs": [],
      "source": [
        "def train_model(X_train, y_train):\n",
        "    \"\"\"Trains a Random Forest Classifier.\"\"\"\n",
        "    model = RandomForestClassifier(\n",
        "        n_estimators=100,   \n",
        "        random_state=42,\n",
        "        max_depth=None,     \n",
        "        n_jobs=-1         \n",
        "    )\n",
        "    model.fit(X_train, y_train)\n",
        "    return model"
      ]
    },
    {
      "cell_type": "code",
      "execution_count": 23,
      "metadata": {
        "id": "CUrBrPHUICML"
      },
      "outputs": [],
      "source": [
        "def evaluate_model(model, X_test, y_test, le_genre):\n",
        "    \"\"\"Evaluates model and prints metrics.\"\"\"\n",
        "    print(\"\\n--- Model Evaluation ---\")\n",
        "    predictions = model.predict(X_test)\n",
        "    accuracy = accuracy_score(y_test, predictions)\n",
        "    print(f\"Accuracy: {accuracy:.2f}\\n\")\n",
        "    print(\"Classification Report:\")\n",
        "    print(classification_report(y_test, predictions, target_names=le_genre.classes_))"
      ]
    },
    {
      "cell_type": "code",
      "execution_count": 24,
      "metadata": {
        "id": "RGYIeOMLIHGh"
      },
      "outputs": [],
      "source": [
        "def save_model(model, le_emotion, le_genre, path):\n",
        "    \"\"\"Saves trained model & encoders.\"\"\"\n",
        "    joblib.dump((model, le_emotion, le_genre), \"vibetune.pkl\")\n",
        "    print(f\"\\nModel saved at {path}\")\n",
        "\n",
        "def load_model(path):\n",
        "    \"\"\"Loads trained model & encoders.\"\"\"\n",
        "    return joblib.load(path)"
      ]
    },
    {
      "cell_type": "code",
      "execution_count": null,
      "metadata": {
        "id": "aFoHyt88ISu-"
      },
      "outputs": [],
      "source": [
        "def recommend_songs(emotion, df, model, le_emotion, le_genre, n=5, genre=None):\n",
        "    \"\"\"\n",
        "    Recommend songs based on emotion and (optionally) genre\n",
        "    \"\"\"\n",
        "    \n",
        "    filtered_df = df[df['emotion'].str.lower() == emotion.lower()]\n",
        "\n",
        "    \n",
        "    if genre:\n",
        "        filtered_df = filtered_df[filtered_df['genre'].str.lower() == genre.lower()]\n",
        "\n",
        "    \n",
        "    if filtered_df.empty:\n",
        "        return []\n",
        "\n",
        "\n",
        "    recommendations = filtered_df.sample(min(n, len(filtered_df)))\n",
        "\n",
        "    return recommendations.to_dict(orient=\"records\")\n"
      ]
    },
    {
      "cell_type": "code",
      "execution_count": null,
      "metadata": {
        "colab": {
          "base_uri": "https://localhost:8080/"
        },
        "id": "QGRqy3s-IUqa",
        "outputId": "ff0efb02-00fd-4e6e-c976-a3fcc35570b0"
      },
      "outputs": [
        {
          "name": "stdout",
          "output_type": "stream",
          "text": [
            "\n",
            "--- Model Evaluation ---\n"
          ]
        },
        {
          "name": "stderr",
          "output_type": "stream",
          "text": [
            "/usr/local/lib/python3.12/dist-packages/sklearn/metrics/_classification.py:1565: UndefinedMetricWarning: Precision is ill-defined and being set to 0.0 in labels with no predicted samples. Use `zero_division` parameter to control this behavior.\n",
            "  _warn_prf(average, modifier, f\"{metric.capitalize()} is\", len(result))\n",
            "/usr/local/lib/python3.12/dist-packages/sklearn/metrics/_classification.py:1565: UndefinedMetricWarning: Precision is ill-defined and being set to 0.0 in labels with no predicted samples. Use `zero_division` parameter to control this behavior.\n",
            "  _warn_prf(average, modifier, f\"{metric.capitalize()} is\", len(result))\n",
            "/usr/local/lib/python3.12/dist-packages/sklearn/metrics/_classification.py:1565: UndefinedMetricWarning: Precision is ill-defined and being set to 0.0 in labels with no predicted samples. Use `zero_division` parameter to control this behavior.\n",
            "  _warn_prf(average, modifier, f\"{metric.capitalize()} is\", len(result))\n"
          ]
        },
        {
          "name": "stdout",
          "output_type": "stream",
          "text": [
            "Accuracy: 0.31\n",
            "\n",
            "Classification Report:\n",
            "              precision    recall  f1-score   support\n",
            "\n",
            " alternative       0.00      0.00      0.00      3809\n",
            "      comedy       0.00      0.00      0.00       206\n",
            "  electronic       0.00      0.00      0.00      1029\n",
            "        folk       0.00      0.00      0.00      2124\n",
            "     hip-hop       0.00      0.00      0.00      3463\n",
            "        jazz       0.00      0.00      0.00       861\n",
            "       metal       0.00      0.00      0.00      2098\n",
            "         pop       0.30      0.90      0.45      9377\n",
            " progressive       0.00      0.00      0.00       605\n",
            "         rap       0.38      0.37      0.37      6640\n",
            "        rock       0.00      0.00      0.00      2591\n",
            "        soul       0.00      0.00      0.00      1748\n",
            "\n",
            "    accuracy                           0.31     34551\n",
            "   macro avg       0.06      0.11      0.07     34551\n",
            "weighted avg       0.15      0.31      0.19     34551\n",
            "\n",
            "\n",
            "Model saved at vibetube.pkl\n",
            "Enter your emotion (e.g., joy, sad, anger): joy\n",
            "Enter your preferred genre (e.g., pop, rock, jazz): rock\n",
            "\n",
            "Here are your song recommendations:\n",
            "- 'Good Morning' by Steve Miller Band\n",
            "- 'Give Me Love (Give Me Peace On Earth)' by George Harrison\n",
            "- 'Love On The Run' by Scorpions\n",
            "- 'Cry Baby Cry' by The Beatles\n",
            "- 'The Song Remains the Same' by Led Zeppelin\n"
          ]
        }
      ],
      "source": [
        "if __name__ == \"__main__\":\n",
        "    DATA_PATH = r\"/content/song.csv\"    \n",
        "    MODEL_PATH = r\"vibetube.pkl\"\n",
        "\n",
        "    full_df = load_and_preprocess_data(DATA_PATH)\n",
        "\n",
        "    X_train, X_test, y_train, y_test, le_emotion, le_genre = prepare_data_for_training(full_df)\n",
        "\n",
        "    \n",
        "    trained_model = train_model(X_train, y_train)\n",
        "\n",
        "    \n",
        "    evaluate_model(trained_model, X_test, y_test, le_genre)\n",
        "\n",
        "    \n",
        "    save_model(trained_model, le_emotion, le_genre, MODEL_PATH)\n",
        "\n",
        "\n",
        "    user_emotion = input(\"Enter your emotion (e.g., joy, sad, anger): \").strip().lower()\n",
        "    user_genre = input(\"Enter your preferred genre (e.g., pop, rock, jazz): \").strip().lower()\n",
        "\n",
        "    recommendations = recommend_songs(user_emotion, full_df, trained_model, le_emotion, le_genre, n=5, genre=user_genre)\n",
        "\n",
        "    if recommendations:\n",
        "        print(\"\\nHere are your song recommendations:\")\n",
        "        for rec in recommendations:\n",
        "            print(f\"- '{rec['song']}' by {rec['artist']}\")\n",
        "    else:\n",
        "        print(\"\\nNo matching songs found.\")\n"
      ]
    }
  ],
  "metadata": {
    "colab": {
      "provenance": []
    },
    "kernelspec": {
      "display_name": "Python 3",
      "name": "python3"
    },
    "language_info": {
      "name": "python"
    }
  },
  "nbformat": 4,
  "nbformat_minor": 0
}
