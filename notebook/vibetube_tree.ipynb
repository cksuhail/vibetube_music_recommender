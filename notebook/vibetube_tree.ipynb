{
  "nbformat": 4,
  "nbformat_minor": 0,
  "metadata": {
    "colab": {
      "provenance": []
    },
    "kernelspec": {
      "name": "python3",
      "display_name": "Python 3"
    },
    "language_info": {
      "name": "python"
    }
  },
  "cells": [
    {
      "cell_type": "code",
      "source": [
        "import pandas as pd\n",
        "from sklearn.model_selection import train_test_split\n",
        "from sklearn.preprocessing import LabelEncoder\n",
        "from sklearn.tree import DecisionTreeClassifier\n",
        "from sklearn.metrics import accuracy_score, classification_report\n",
        "import joblib\n",
        "import random"
      ],
      "metadata": {
        "id": "B5ECPB_cHvcn"
      },
      "execution_count": 9,
      "outputs": []
    },
    {
      "cell_type": "code",
      "source": [
        "def load_and_preprocess_data(path):\n",
        "    \"\"\"\n",
        "    Loads data from a CSV file, converts column names to lowercase,\n",
        "    and selects the relevant columns for the model.\n",
        "    \"\"\"\n",
        "    df = pd.read_csv(\"/content/song.csv\")\n",
        "    df.columns = df.columns.str.lower()\n",
        "\n",
        "    # Select features & target\n",
        "    df_processed = df[['artist', 'song', 'emotion', 'genre', 'release date', 'explicit']].copy()\n",
        "    return df_processed\n"
      ],
      "metadata": {
        "id": "CptSk9rqHy6D"
      },
      "execution_count": 10,
      "outputs": []
    },
    {
      "cell_type": "code",
      "source": [
        "def prepare_data_for_training(df):\n",
        "    \"\"\"\n",
        "    Encodes categorical variables and splits dataset into train & test sets.\n",
        "    \"\"\"\n",
        "    X = df[['emotion']]\n",
        "    y = df['genre']\n",
        "\n",
        "    le_emotion = LabelEncoder()\n",
        "    le_genre = LabelEncoder()\n",
        "\n",
        "    X_enc = le_emotion.fit_transform(X['emotion']).reshape(-1, 1)\n",
        "    y_enc = le_genre.fit_transform(y)\n",
        "\n",
        "    X_train, X_test, y_train, y_test = train_test_split(\n",
        "        X_enc, y_enc, test_size=0.2, random_state=42, stratify=y_enc\n",
        "    )\n",
        "    return X_train, X_test, y_train, y_test, le_emotion, le_genre"
      ],
      "metadata": {
        "id": "bxI4M_dgH8Sx"
      },
      "execution_count": 11,
      "outputs": []
    },
    {
      "cell_type": "code",
      "source": [
        "def train_model(X_train, y_train):\n",
        "    \"\"\"Trains a Decision Tree Classifier.\"\"\"\n",
        "    model = DecisionTreeClassifier(random_state=42)\n",
        "    model.fit(X_train, y_train)\n",
        "    return model"
      ],
      "metadata": {
        "id": "8GIvGYV7H_RR"
      },
      "execution_count": 12,
      "outputs": []
    },
    {
      "cell_type": "code",
      "source": [
        "def evaluate_model(model, X_test, y_test, le_genre):\n",
        "    \"\"\"Evaluates model and prints metrics.\"\"\"\n",
        "    print(\"\\n--- Model Evaluation ---\")\n",
        "    predictions = model.predict(X_test)\n",
        "    accuracy = accuracy_score(y_test, predictions)\n",
        "    print(f\"Accuracy: {accuracy:.2f}\\n\")\n",
        "    print(\"Classification Report:\")\n",
        "    print(classification_report(y_test, predictions, target_names=le_genre.classes_))"
      ],
      "metadata": {
        "id": "CUrBrPHUICML"
      },
      "execution_count": 13,
      "outputs": []
    },
    {
      "cell_type": "code",
      "source": [
        "def save_model(model, le_emotion, le_genre, path):\n",
        "    \"\"\"Saves trained model & encoders.\"\"\"\n",
        "    joblib.dump((model, le_emotion, le_genre), \"vibetune.pkl\")\n",
        "    print(f\"\\nModel saved at {path}\")\n",
        "\n",
        "def load_model(path):\n",
        "    \"\"\"Loads trained model & encoders.\"\"\"\n",
        "    return joblib.load(path)"
      ],
      "metadata": {
        "id": "RGYIeOMLIHGh"
      },
      "execution_count": 14,
      "outputs": []
    },
    {
      "cell_type": "code",
      "source": [
        "def recommend_songs(emotion, df, model, le_emotion, le_genre, n=5, genre=None):\n",
        "    \"\"\"\n",
        "    Recommend songs based on emotion and (optionally) genre\n",
        "    \"\"\"\n",
        "    # Filter dataset by emotion\n",
        "    filtered_df = df[df['emotion'].str.lower() == emotion.lower()]\n",
        "\n",
        "    # If genre is provided, filter further\n",
        "    if genre:\n",
        "        filtered_df = filtered_df[filtered_df['genre'].str.lower() == genre.lower()]\n",
        "\n",
        "    # If nothing matches, return empty\n",
        "    if filtered_df.empty:\n",
        "        return []\n",
        "\n",
        "    # Randomly pick n songs\n",
        "    recommendations = filtered_df.sample(min(n, len(filtered_df)))\n",
        "\n",
        "    return recommendations.to_dict(orient=\"records\")"
      ],
      "metadata": {
        "id": "aFoHyt88ISu-"
      },
      "execution_count": 23,
      "outputs": []
    },
    {
      "cell_type": "code",
      "source": [
        "if __name__ == \"__main__\":\n",
        "    DATA_PATH = r\"/content/song.csv\"     # <--- Put your dataset path here\n",
        "    MODEL_PATH = r\"vibetube.pkl\"\n",
        "\n",
        "    # Step 1: Load dataset\n",
        "    full_df = load_and_preprocess_data(DATA_PATH)\n",
        "\n",
        "    # Step 2: Prepare data\n",
        "    X_train, X_test, y_train, y_test, le_emotion, le_genre = prepare_data_for_training(full_df)\n",
        "\n",
        "    # Step 3: Train model\n",
        "    trained_model = train_model(X_train, y_train)\n",
        "\n",
        "    # Step 4: Evaluate model\n",
        "    evaluate_model(trained_model, X_test, y_test, le_genre)\n",
        "\n",
        "    # Step 5: Save model\n",
        "    save_model(trained_model, le_emotion, le_genre, MODEL_PATH)\n",
        "\n",
        "    # Step 6: User Input for Recommendation\n",
        "    user_emotion = input(\"Enter your emotion (e.g., joy, sad, anger): \").strip().lower()\n",
        "    user_genre = input(\"Enter your preferred genre (e.g., pop, rock, jazz): \").strip().lower()\n",
        "\n",
        "    recommendations = recommend_songs(user_emotion, full_df, trained_model, le_emotion, le_genre, n=5, genre=user_genre)\n",
        "\n",
        "    if recommendations:\n",
        "        print(\"\\nHere are your song recommendations:\")\n",
        "        for rec in recommendations:\n",
        "            print(f\"- '{rec['song']}' by {rec['artist']}\")\n",
        "    else:\n",
        "        print(\"\\nNo matching songs found.\")\n"
      ],
      "metadata": {
        "colab": {
          "base_uri": "https://localhost:8080/"
        },
        "id": "QGRqy3s-IUqa",
        "outputId": "83d6757c-27ba-47f8-d626-9ac29f88c2fa"
      },
      "execution_count": 24,
      "outputs": [
        {
          "output_type": "stream",
          "name": "stderr",
          "text": [
            "/usr/local/lib/python3.12/dist-packages/sklearn/metrics/_classification.py:1565: UndefinedMetricWarning: Precision is ill-defined and being set to 0.0 in labels with no predicted samples. Use `zero_division` parameter to control this behavior.\n",
            "  _warn_prf(average, modifier, f\"{metric.capitalize()} is\", len(result))\n",
            "/usr/local/lib/python3.12/dist-packages/sklearn/metrics/_classification.py:1565: UndefinedMetricWarning: Precision is ill-defined and being set to 0.0 in labels with no predicted samples. Use `zero_division` parameter to control this behavior.\n",
            "  _warn_prf(average, modifier, f\"{metric.capitalize()} is\", len(result))\n",
            "/usr/local/lib/python3.12/dist-packages/sklearn/metrics/_classification.py:1565: UndefinedMetricWarning: Precision is ill-defined and being set to 0.0 in labels with no predicted samples. Use `zero_division` parameter to control this behavior.\n",
            "  _warn_prf(average, modifier, f\"{metric.capitalize()} is\", len(result))\n"
          ]
        },
        {
          "output_type": "stream",
          "name": "stdout",
          "text": [
            "\n",
            "--- Model Evaluation ---\n",
            "Accuracy: 0.31\n",
            "\n",
            "Classification Report:\n",
            "              precision    recall  f1-score   support\n",
            "\n",
            " alternative       0.00      0.00      0.00      3809\n",
            "      comedy       0.00      0.00      0.00       206\n",
            "  electronic       0.00      0.00      0.00      1029\n",
            "        folk       0.00      0.00      0.00      2124\n",
            "     hip-hop       0.00      0.00      0.00      3463\n",
            "        jazz       0.00      0.00      0.00       861\n",
            "       metal       0.00      0.00      0.00      2098\n",
            "         pop       0.30      0.90      0.45      9377\n",
            " progressive       0.00      0.00      0.00       605\n",
            "         rap       0.38      0.37      0.37      6640\n",
            "        rock       0.00      0.00      0.00      2591\n",
            "        soul       0.00      0.00      0.00      1748\n",
            "\n",
            "    accuracy                           0.31     34551\n",
            "   macro avg       0.06      0.11      0.07     34551\n",
            "weighted avg       0.15      0.31      0.19     34551\n",
            "\n",
            "\n",
            "Model saved at vibetube.pkl\n",
            "Enter your emotion (e.g., joy, sad, anger): joy\n",
            "Enter your preferred genre (e.g., pop, rock, jazz): jazz\n",
            "\n",
            "Here are your song recommendations:\n",
            "- 'Christmas Island' by Ella Fitzgerald\n",
            "- 'Im Ready' by Muddy Waters\n",
            "- 'When You're Good To Mama' by Queen Latifah\n",
            "- 'The Candy Man' by Sammy Davis Jr.\n",
            "- 'I've Got Dreams To Remember' by Etta James\n"
          ]
        }
      ]
    }
  ]
}